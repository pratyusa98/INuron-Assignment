{
  "nbformat": 4,
  "nbformat_minor": 0,
  "metadata": {
    "colab": {
      "name": "Pyhton Assignment 4.ipynb",
      "provenance": [],
      "collapsed_sections": []
    },
    "kernelspec": {
      "name": "python3",
      "display_name": "Python 3"
    }
  },
  "cells": [
    {
      "cell_type": "code",
      "metadata": {
        "id": "ipQAaDgrLvlL",
        "colab_type": "code",
        "colab": {
          "base_uri": "https://localhost:8080/",
          "height": 85
        },
        "outputId": "bd5c3bc0-69eb-4119-d9d3-71bde20260b4"
      },
      "source": [
        "\"\"\"\n",
        "1.1 Write a Python Program(with class concepts) to find the area of the triangle using the below\n",
        "formula. \n",
        "area = (s*(s-a)*(s-b)*(s-c)) ** 0.5\n",
        "\n",
        "Function to take the length of the sides of triangle from user should be defined in the parent\n",
        "class and function to calculate the area should be defined in subclass.\n",
        "\"\"\"\n",
        "\n",
        "class area:\n",
        "    def __init__(self,a,b,c):\n",
        "        self.a = float(a)\n",
        "        self.b = float(b)\n",
        "        self.c = float(c)\n",
        "a= int(input(\"a=\"))\n",
        "b= int(input(\"b=\"))\n",
        "c= int(input(\"c=\"))\n",
        "\n",
        "class triangle(area):\n",
        "    def __init__(self,a,b,c):\n",
        "        super().__init__(a,b,c)\n",
        "\n",
        "    def get_area(self):\n",
        "        s = (a + b + c) / 2\n",
        "        return (s*(s-a)*(s-b)*(s-c)) ** 0.5        \n",
        "\n",
        "t = triangle(a,b,c)\n",
        "print(f\"area  of triangle with {a},{b},{c} is = \",t.get_area())"
      ],
      "execution_count": null,
      "outputs": [
        {
          "output_type": "stream",
          "text": [
            "a=5\n",
            "b=4\n",
            "c=6\n",
            "area  of triangle with 5,4,6 is =  9.921567416492215\n"
          ],
          "name": "stdout"
        }
      ]
    },
    {
      "cell_type": "code",
      "metadata": {
        "id": "jW7-DZ0cNHp3",
        "colab_type": "code",
        "colab": {
          "base_uri": "https://localhost:8080/",
          "height": 34
        },
        "outputId": "e0b0c26b-0147-4b7d-9892-e42eaf1fc120"
      },
      "source": [
        "\"\"\"\n",
        "1.2 Write a function filter_long_words() that takes a list of words and an integer n and returns\n",
        "the list of words that are longer than n.\n",
        "\n",
        "\"\"\"\n",
        "def filter_long_words(List,Integer):\n",
        " \n",
        "    listOfWords = []\n",
        " \n",
        "    for i in range(len(List)):\n",
        "        if len(List[i]) > Integer:\n",
        "            listOfWords.append(List[i])\n",
        " \n",
        "    return listOfWords\n",
        " \n",
        "\n",
        " \n",
        "print(filter_long_words(['wordOne','wordTwo','wordThree','wordFour','wordFive'],7))"
      ],
      "execution_count": 33,
      "outputs": [
        {
          "output_type": "stream",
          "text": [
            "['wordThree', 'wordFour', 'wordFive']\n"
          ],
          "name": "stdout"
        }
      ]
    },
    {
      "cell_type": "code",
      "metadata": {
        "id": "8ZBx5b0GNHmn",
        "colab_type": "code",
        "colab": {
          "base_uri": "https://localhost:8080/",
          "height": 51
        },
        "outputId": "58feefba-d713-4e4d-a697-56802b02ebdb"
      },
      "source": [
        "\"\"\"\n",
        "2.1 Write a Python program using function concept that maps list of words into a list of integers\n",
        "representing the lengths of the corresponding words\n",
        "\n",
        "\"\"\"\n",
        "def map_Words_to_Length(List):\n",
        "    return list(map(len, List))\n",
        "\n",
        "word_List=list(input(\"Please enter Words : \").split(\",\"))\n",
        "List=[x.strip() for x in word_List]\n",
        "Words_lengths=map_Words_to_Length(List)\n",
        "\n",
        "print(\"Length of Words are :\",Words_lengths )"
      ],
      "execution_count": 34,
      "outputs": [
        {
          "output_type": "stream",
          "text": [
            "Please enter Words : ac,bg\n",
            "Length of Words are : [2, 2]\n"
          ],
          "name": "stdout"
        }
      ]
    },
    {
      "cell_type": "code",
      "metadata": {
        "id": "k9zN5fqdNHiT",
        "colab_type": "code",
        "colab": {
          "base_uri": "https://localhost:8080/",
          "height": 51
        },
        "outputId": "58f0bda7-80e9-4001-f80d-2a3e4c4a10b5"
      },
      "source": [
        "\"\"\"\n",
        "2.2 Write a Python function which takes a character (i.e. a string of length 1) and returns True if\n",
        "it is a vowel, False otherwise.\n",
        "\n",
        "\"\"\"\n",
        "def vowel(inp):\n",
        "  if inp in ('a', 'e', 'i', 'o', 'u' and 'A','E','I','O','U'):\n",
        "    return True\n",
        "  else:\n",
        "    return False\n",
        "\n",
        "\n",
        "letter = input(\"Enter a character: \")\n",
        "vowel(letter)\n"
      ],
      "execution_count": 37,
      "outputs": [
        {
          "output_type": "stream",
          "text": [
            "Enter a character: A\n"
          ],
          "name": "stdout"
        },
        {
          "output_type": "execute_result",
          "data": {
            "text/plain": [
              "True"
            ]
          },
          "metadata": {
            "tags": []
          },
          "execution_count": 37
        }
      ]
    }
  ]
}