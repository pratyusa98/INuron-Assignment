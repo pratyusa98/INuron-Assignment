{
 "cells": [
  {
   "cell_type": "markdown",
   "metadata": {},
   "source": [
    "# Problem Statement 1:\n",
    " - Blood glucose levels for obese patients have a mean of 100 with a standard deviation of 15. A researcher thinks that a diet high in raw cornstarch will have a positive effect on blood glucose levels. A sample of 36 patients who have tried the raw cornstarch diet have a mean glucose level of 108. Test the hypothesis that the raw cornstarch had an effect or not."
   ]
  },
  {
   "cell_type": "code",
   "execution_count": 1,
   "metadata": {},
   "outputs": [],
   "source": [
    "import math\n",
    "Sample_counts = 36\n",
    "Sample_Mean = 108\n",
    "Population_Mean = 100\n",
    "Population_deviation = 15"
   ]
  },
  {
   "cell_type": "code",
   "execution_count": 2,
   "metadata": {},
   "outputs": [
    {
     "name": "stdout",
     "output_type": "stream",
     "text": [
      "The z score is 3.2\n",
      "By looking this value up in z table, we get a value of 0.9993\n",
      "Which implies the probability of having value less than 108 is 99.93% and more than or equals to 108 is 0.007\n",
      "It is less than 0.05 so we will reject the Null hypothesis i.e. there is raw cornstarch effect\n"
     ]
    }
   ],
   "source": [
    "#Lets calculate Z score\n",
    "z_score =(Sample_Mean - Population_Mean)/(Population_deviation/math.sqrt(Sample_counts))\n",
    "print('The z score is' ,z_score)\n",
    "print('By looking this value up in z table, we get a value of 0.9993')\n",
    "print('Which implies the probability of having value less than 108 is 99.93% and more than or equals to 108 is 0.007')\n",
    "print('It is less than 0.05 so we will reject the Null hypothesis i.e. there is raw cornstarch effect')"
   ]
  },
  {
   "cell_type": "markdown",
   "metadata": {},
   "source": [
    "# Problem Statement 2:\n",
    "- In one state, 52% of the voters are Republicans, and 48% are Democrats. In a second state, 47% of the voters are Republicans, and 53% are Democrats. Suppose a simple random sample of 100 voters are surveyed from each state. What is the probability that the survey will show a greater percentage of Republican voters in the second state than in the first state?"
   ]
  },
  {
   "cell_type": "code",
   "execution_count": 3,
   "metadata": {},
   "outputs": [
    {
     "name": "stdout",
     "output_type": "stream",
     "text": [
      "Mu :  0.050000000000000044 Std :  0.07061869440877536\n",
      "Z_score(P_1,P_2): -0.7080278164104213\n",
      "The probability that the survey will show a greater percentage of Repub lican voters in the second state than in the first state is 0.24.\n"
     ]
    }
   ],
   "source": [
    "N1 = 100\n",
    "N2 = 100\n",
    "\n",
    "P1 = 0.52\n",
    "Q1 = 0.48\n",
    "\n",
    "P2 = 0.47\n",
    "Q2 = 0.53\n",
    "\n",
    "mu =P1 - P2\n",
    "\n",
    "std_dev = math.sqrt(((P1 * Q1 ) / N1) + ((P2 * Q2) /N2))\n",
    "print(\"Mu : \",mu,\"Std : \",std_dev)\n",
    "\n",
    "x = 0\n",
    "\n",
    "Z = (x - mu)/std_dev\n",
    "\n",
    "print(\"Z_score(P_1,P_2):\",Z)\n",
    "print('The probability that the survey will show a greater percentage of Repub lican voters in the second state than in the first state is 0.24.')"
   ]
  },
  {
   "cell_type": "markdown",
   "metadata": {},
   "source": [
    "# Problem Statement 3:\n",
    "- You take the SAT and score 1100. The mean score for the SAT is 1026 and the standard deviation is 209. How well did you score on the test compared to the average test taker?"
   ]
  },
  {
   "cell_type": "code",
   "execution_count": 4,
   "metadata": {},
   "outputs": [
    {
     "name": "stdout",
     "output_type": "stream",
     "text": [
      "Z Score :  0.35406698564593303\n",
      "The above calculation shows that my score is 0.35 standard deviations above the mean\n"
     ]
    }
   ],
   "source": [
    "x = 1100\n",
    "mu = 1026\n",
    "std = 209\n",
    "z = ( x - mu)/std\n",
    "print(\"Z Score : \",z)\n",
    "print('The above calculation shows that my score is 0.35 standard deviations above the mean')"
   ]
  }
 ],
 "metadata": {
  "kernelspec": {
   "display_name": "Python 3",
   "language": "python",
   "name": "python3"
  },
  "language_info": {
   "codemirror_mode": {
    "name": "ipython",
    "version": 3
   },
   "file_extension": ".py",
   "mimetype": "text/x-python",
   "name": "python",
   "nbconvert_exporter": "python",
   "pygments_lexer": "ipython3",
   "version": "3.7.6"
  }
 },
 "nbformat": 4,
 "nbformat_minor": 4
}
