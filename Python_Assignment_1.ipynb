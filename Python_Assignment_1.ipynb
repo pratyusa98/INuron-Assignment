{
  "nbformat": 4,
  "nbformat_minor": 0,
  "metadata": {
    "kernelspec": {
      "display_name": "Python 3",
      "language": "python",
      "name": "python3"
    },
    "language_info": {
      "codemirror_mode": {
        "name": "ipython",
        "version": 3
      },
      "file_extension": ".py",
      "mimetype": "text/x-python",
      "name": "python",
      "nbconvert_exporter": "python",
      "pygments_lexer": "ipython3",
      "version": "3.7.6"
    },
    "colab": {
      "name": "Python Assignment 1.ipynb",
      "provenance": [],
      "collapsed_sections": []
    }
  },
  "cells": [
    {
      "cell_type": "code",
      "metadata": {
        "id": "oFYIwyZb3jLF",
        "colab_type": "code",
        "colab": {
          "base_uri": "https://localhost:8080/",
          "height": 54
        },
        "outputId": "d8bb2b0e-9c5c-4c56-9f7e-184f2d913564"
      },
      "source": [
        "\"\"\"\n",
        "1. Write a program which will find all such numbers which are divisible by 7 but are not a\n",
        "multiple of 5, between 2000 and 3200 (both included). The numbers obtained should be printed\n",
        "in a comma-separated sequence on a single line.\n",
        "\"\"\"\n",
        "li = []\n",
        "for i in range(2000,3201):\n",
        "    if i%7 ==0 and i%5!=0:\n",
        "        li.append(str(i))\n",
        "print (','.join(li))"
      ],
      "execution_count": 1,
      "outputs": [
        {
          "output_type": "stream",
          "text": [
            "2002,2009,2016,2023,2037,2044,2051,2058,2072,2079,2086,2093,2107,2114,2121,2128,2142,2149,2156,2163,2177,2184,2191,2198,2212,2219,2226,2233,2247,2254,2261,2268,2282,2289,2296,2303,2317,2324,2331,2338,2352,2359,2366,2373,2387,2394,2401,2408,2422,2429,2436,2443,2457,2464,2471,2478,2492,2499,2506,2513,2527,2534,2541,2548,2562,2569,2576,2583,2597,2604,2611,2618,2632,2639,2646,2653,2667,2674,2681,2688,2702,2709,2716,2723,2737,2744,2751,2758,2772,2779,2786,2793,2807,2814,2821,2828,2842,2849,2856,2863,2877,2884,2891,2898,2912,2919,2926,2933,2947,2954,2961,2968,2982,2989,2996,3003,3017,3024,3031,3038,3052,3059,3066,3073,3087,3094,3101,3108,3122,3129,3136,3143,3157,3164,3171,3178,3192,3199\n"
          ],
          "name": "stdout"
        }
      ]
    },
    {
      "cell_type": "code",
      "metadata": {
        "id": "ZRL0iirV3jLT",
        "colab_type": "code",
        "colab": {
          "base_uri": "https://localhost:8080/",
          "height": 85
        },
        "outputId": "101cfacb-36fc-4768-86b3-14550f894b89"
      },
      "source": [
        "\"\"\" \n",
        "2. Write a Python program to accept the user's first and last name and then getting them printed\n",
        "in the the reverse order with a space between first name and last name.\n",
        "\"\"\"\n",
        "\n",
        "a = input(\"Enter First Name: \")\n",
        "b = input(\"Enter Last Name: \")\n",
        "print(\"Before Reverse Name: \",a,b)\n",
        "c = a[::-1]\n",
        "d = b[::-1]\n",
        "print(\"After Reverse Name: \",c,d)"
      ],
      "execution_count": 2,
      "outputs": [
        {
          "output_type": "stream",
          "text": [
            "Enter First Name: pratyusa\n",
            "Enter Last Name: dwibedy\n",
            "Before Reverse Name:  pratyusa dwibedy\n",
            "After Reverse Name:  asuytarp ydebiwd\n"
          ],
          "name": "stdout"
        }
      ]
    },
    {
      "cell_type": "code",
      "metadata": {
        "id": "mb4W3vTD3jLY",
        "colab_type": "code",
        "colab": {
          "base_uri": "https://localhost:8080/",
          "height": 34
        },
        "outputId": "b17814c8-560b-49b2-b59c-cb7a430c778b"
      },
      "source": [
        "# 3. Write a Python program to find the volume of a sphere with diameter 12 cm.\n",
        "d = 12\n",
        "r = d/2\n",
        "v = 4/3*3.141*r*r*r\n",
        "print(f\"volume of a sphere with diameter {d} cm is =\",v)"
      ],
      "execution_count": 3,
      "outputs": [
        {
          "output_type": "stream",
          "text": [
            "volume of a sphere with diameter 12 cm is = 904.608\n"
          ],
          "name": "stdout"
        }
      ]
    },
    {
      "cell_type": "code",
      "metadata": {
        "id": "LF5KsWoM3jLc",
        "colab_type": "code",
        "colab": {}
      },
      "source": [
        ""
      ],
      "execution_count": null,
      "outputs": []
    },
    {
      "cell_type": "code",
      "metadata": {
        "id": "nlhiawCW3jLg",
        "colab_type": "code",
        "colab": {}
      },
      "source": [
        ""
      ],
      "execution_count": null,
      "outputs": []
    }
  ]
}