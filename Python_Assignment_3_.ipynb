{
  "nbformat": 4,
  "nbformat_minor": 0,
  "metadata": {
    "colab": {
      "name": "Python Assignment 3 .ipynb",
      "provenance": [],
      "collapsed_sections": []
    },
    "kernelspec": {
      "name": "python3",
      "display_name": "Python 3"
    }
  },
  "cells": [
    {
      "cell_type": "code",
      "metadata": {
        "id": "jNXCalvoNhyb",
        "colab_type": "code",
        "colab": {}
      },
      "source": [
        "\"\"\"\n",
        "1.1 Write a Python Program to implement your own myreduce() function which works exactly\n",
        "like Python's built-in function reduce()\n",
        "\"\"\"\n",
        "def my_reduce(function, sequence,initial=None):\n",
        "    result = sequence[0]\n",
        "    for item in sequence[1:]:\n",
        "        result = function(result, item)\n",
        "    return result"
      ],
      "execution_count": 1,
      "outputs": []
    },
    {
      "cell_type": "code",
      "metadata": {
        "id": "bA26ogeYNkfl",
        "colab_type": "code",
        "colab": {
          "base_uri": "https://localhost:8080/",
          "height": 34
        },
        "outputId": "75fc3b9a-573f-473c-f371-f9d23c9b811e"
      },
      "source": [
        "list1 = [1,2,3,4,5]\n",
        "nm = my_reduce(lambda x,y:x+y, list1)\n",
        "print(nm)"
      ],
      "execution_count": 2,
      "outputs": [
        {
          "output_type": "stream",
          "text": [
            "15\n"
          ],
          "name": "stdout"
        }
      ]
    },
    {
      "cell_type": "code",
      "metadata": {
        "id": "izW1paMQN0kz",
        "colab_type": "code",
        "colab": {}
      },
      "source": [
        "\"\"\"\n",
        " 1.2Write a Python program to implement your own myfilter() function which works exactly\n",
        "like Python's built-in function filter()\n",
        "\"\"\"\n",
        "def my_filter(anyfunc, sequence):\n",
        "    result = []\n",
        "    for item in sequence:\n",
        "      if anyfunc(item):\n",
        "       result.append(item)\n",
        "    return result\n",
        "\n"
      ],
      "execution_count": 3,
      "outputs": []
    },
    {
      "cell_type": "code",
      "metadata": {
        "id": "2t-M-eREN0sQ",
        "colab_type": "code",
        "colab": {
          "base_uri": "https://localhost:8080/",
          "height": 34
        },
        "outputId": "99c1489e-2f7b-4577-85f3-7c06fa3482e4"
      },
      "source": [
        "list1 = [1,22,5,3,4,55,65]\n",
        "vv = my_filter(lambda x:x<5,list1)\n",
        "print(vv)"
      ],
      "execution_count": 4,
      "outputs": [
        {
          "output_type": "stream",
          "text": [
            "[1, 3, 4]\n"
          ],
          "name": "stdout"
        }
      ]
    },
    {
      "cell_type": "code",
      "metadata": {
        "id": "_wLPDL0JRYmy",
        "colab_type": "code",
        "colab": {}
      },
      "source": [
        "#2. Implement List comprehensions to produce the following lists."
      ],
      "execution_count": null,
      "outputs": []
    },
    {
      "cell_type": "code",
      "metadata": {
        "id": "Owxy88n5RY2R",
        "colab_type": "code",
        "colab": {
          "base_uri": "https://localhost:8080/",
          "height": 34
        },
        "outputId": "da42bae4-4445-468e-ab90-3986c6689693"
      },
      "source": [
        "input_list = ['x','y','z']\n",
        "result = [ item*num for item in input_list for num in range(1,5)  ]\n",
        "print(result)"
      ],
      "execution_count": 5,
      "outputs": [
        {
          "output_type": "stream",
          "text": [
            "['x', 'xx', 'xxx', 'xxxx', 'y', 'yy', 'yyy', 'yyyy', 'z', 'zz', 'zzz', 'zzzz']\n"
          ],
          "name": "stdout"
        }
      ]
    },
    {
      "cell_type": "code",
      "metadata": {
        "id": "QYsHrIxJRqL0",
        "colab_type": "code",
        "colab": {
          "base_uri": "https://localhost:8080/",
          "height": 34
        },
        "outputId": "0e15ebff-7d5b-4a2e-9379-5d24cadb7ce7"
      },
      "source": [
        "input_list = ['x','y','z']\n",
        "result = [ item*num for num in range(1,5) for item in input_list  ]\n",
        "print(result)"
      ],
      "execution_count": 6,
      "outputs": [
        {
          "output_type": "stream",
          "text": [
            "['x', 'y', 'z', 'xx', 'yy', 'zz', 'xxx', 'yyy', 'zzz', 'xxxx', 'yyyy', 'zzzz']\n"
          ],
          "name": "stdout"
        }
      ]
    },
    {
      "cell_type": "code",
      "metadata": {
        "id": "spRtKDWTRzek",
        "colab_type": "code",
        "colab": {
          "base_uri": "https://localhost:8080/",
          "height": 34
        },
        "outputId": "63e491ee-2590-4bf0-af68-bcb47795f83a"
      },
      "source": [
        "input_list=[2,3,4]\n",
        "input_list2=[2,3,4,5]\n",
        "result=[[x+n] for x in input_list for n in range(0,3)]\n",
        "result2=[[x+n for n in range(0,4)] for x in input_list2 ]\n",
        "print(result,result2)\n"
      ],
      "execution_count": 10,
      "outputs": [
        {
          "output_type": "stream",
          "text": [
            "[[2], [3], [4], [3], [4], [5], [4], [5], [6]] [[2, 3, 4, 5], [3, 4, 5, 6], [4, 5, 6, 7], [5, 6, 7, 8]]\n"
          ],
          "name": "stdout"
        }
      ]
    },
    {
      "cell_type": "code",
      "metadata": {
        "id": "wdzvEMlQSDcM",
        "colab_type": "code",
        "colab": {
          "base_uri": "https://localhost:8080/",
          "height": 34
        },
        "outputId": "c7908f36-efc1-4f10-86ee-6f2c65af0260"
      },
      "source": [
        "input_list=[2,3,4,5]\n",
        "result=[[x+n for n in range(0,4)] for x in input_list ]\n",
        "print(result)"
      ],
      "execution_count": 12,
      "outputs": [
        {
          "output_type": "stream",
          "text": [
            "[[2, 3, 4, 5], [3, 4, 5, 6], [4, 5, 6, 7], [5, 6, 7, 8]]\n"
          ],
          "name": "stdout"
        }
      ]
    },
    {
      "cell_type": "code",
      "metadata": {
        "id": "8mY9imtqTFJ0",
        "colab_type": "code",
        "colab": {
          "base_uri": "https://localhost:8080/",
          "height": 34
        },
        "outputId": "1eb59ea3-7a6c-44e7-ee8c-add77e91fa93"
      },
      "source": [
        "input_list=[1,2,3]\n",
        "result = [ (b,a) for a in input_list for b in input_list]\n",
        "print(result)"
      ],
      "execution_count": 13,
      "outputs": [
        {
          "output_type": "stream",
          "text": [
            "[(1, 1), (2, 1), (3, 1), (1, 2), (2, 2), (3, 2), (1, 3), (2, 3), (3, 3)]\n"
          ],
          "name": "stdout"
        }
      ]
    }
  ]
}