{
 "cells": [
  {
   "cell_type": "markdown",
   "metadata": {},
   "source": [
    "# Problem Statement 1:"
   ]
  },
  {
   "cell_type": "raw",
   "metadata": {},
   "source": [
    "\n",
    "# Is gender independent of education level? A random sample of 395 people were\n",
    "surveyed and each person was asked\n",
    "#to report the highest education level they obtained. The data that resulted f\n",
    "rom the survey is summarized in the\n",
    "#following table:\n",
    "# High School - Bachelors - Masters - Ph.d. - Total\n",
    "# Female 60 - 54 - 46 - 41 - 201\n",
    "# Male 40 - 44 - 53 - 57 - 194\n",
    "# Total 100 - 98 - 99 - 98 - 395\n",
    "# Question:\n",
    "# Are gender and education level dependent at 5% level of significance? In oth\n",
    "er words, given the data collected\n",
    "# above,is there a relationship between th"
   ]
  },
  {
   "cell_type": "code",
   "execution_count": 1,
   "metadata": {},
   "outputs": [
    {
     "name": "stdout",
     "output_type": "stream",
     "text": [
      "[40, 44, 53, 57, 60, 54, 46, 41]\n",
      "     Education  Marks Sex\n",
      "0  High_school     40   M\n",
      "1    Bachelors     44   M\n",
      "2      Masters     53   M\n",
      "3         Ph.d     57   M\n",
      "4  High_school     60   F\n",
      "5    Bachelors     54   F\n",
      "6      Masters     46   F\n",
      "7         Ph.d     41   F\n"
     ]
    }
   ],
   "source": [
    "import numpy as np\n",
    "import pandas as pd\n",
    "import scipy.stats as stats\n",
    "male = [40,44,53,57]\n",
    "female = [60,54,46,41]\n",
    "High_school=[60,40]\n",
    "Bachelors = [54,44]\n",
    "Masters = [46,53]\n",
    "Phd = [41,57]\n",
    "marks = male+female\n",
    "print(marks)\n",
    "sex=['M','M','M','M','F','F','F','F']\n",
    "education =['High_school','Bachelors','Masters','Ph.d','High_school','Bachelors','Masters','Ph.d']\n",
    "DF=pd.DataFrame({\"Education\":education,\"Marks\":marks,\"Sex\":sex})\n",
    "DF\n",
    "print(DF)"
   ]
  },
  {
   "cell_type": "code",
   "execution_count": 2,
   "metadata": {},
   "outputs": [
    {
     "data": {
      "text/html": [
       "<div>\n",
       "<style scoped>\n",
       "    .dataframe tbody tr th:only-of-type {\n",
       "        vertical-align: middle;\n",
       "    }\n",
       "\n",
       "    .dataframe tbody tr th {\n",
       "        vertical-align: top;\n",
       "    }\n",
       "\n",
       "    .dataframe thead th {\n",
       "        text-align: right;\n",
       "    }\n",
       "</style>\n",
       "<table border=\"1\" class=\"dataframe\">\n",
       "  <thead>\n",
       "    <tr style=\"text-align: right;\">\n",
       "      <th></th>\n",
       "      <th>Education</th>\n",
       "      <th>Bachelors</th>\n",
       "      <th>High_school</th>\n",
       "      <th>Masters</th>\n",
       "      <th>Ph.d</th>\n",
       "      <th>All</th>\n",
       "    </tr>\n",
       "    <tr>\n",
       "      <th>Sex</th>\n",
       "      <th>Marks</th>\n",
       "      <th></th>\n",
       "      <th></th>\n",
       "      <th></th>\n",
       "      <th></th>\n",
       "      <th></th>\n",
       "    </tr>\n",
       "  </thead>\n",
       "  <tbody>\n",
       "    <tr>\n",
       "      <th rowspan=\"4\" valign=\"top\">F</th>\n",
       "      <th>41</th>\n",
       "      <td>0</td>\n",
       "      <td>0</td>\n",
       "      <td>0</td>\n",
       "      <td>1</td>\n",
       "      <td>1</td>\n",
       "    </tr>\n",
       "    <tr>\n",
       "      <th>46</th>\n",
       "      <td>0</td>\n",
       "      <td>0</td>\n",
       "      <td>1</td>\n",
       "      <td>0</td>\n",
       "      <td>1</td>\n",
       "    </tr>\n",
       "    <tr>\n",
       "      <th>54</th>\n",
       "      <td>1</td>\n",
       "      <td>0</td>\n",
       "      <td>0</td>\n",
       "      <td>0</td>\n",
       "      <td>1</td>\n",
       "    </tr>\n",
       "    <tr>\n",
       "      <th>60</th>\n",
       "      <td>0</td>\n",
       "      <td>1</td>\n",
       "      <td>0</td>\n",
       "      <td>0</td>\n",
       "      <td>1</td>\n",
       "    </tr>\n",
       "    <tr>\n",
       "      <th rowspan=\"4\" valign=\"top\">M</th>\n",
       "      <th>40</th>\n",
       "      <td>0</td>\n",
       "      <td>1</td>\n",
       "      <td>0</td>\n",
       "      <td>0</td>\n",
       "      <td>1</td>\n",
       "    </tr>\n",
       "    <tr>\n",
       "      <th>44</th>\n",
       "      <td>1</td>\n",
       "      <td>0</td>\n",
       "      <td>0</td>\n",
       "      <td>0</td>\n",
       "      <td>1</td>\n",
       "    </tr>\n",
       "    <tr>\n",
       "      <th>53</th>\n",
       "      <td>0</td>\n",
       "      <td>0</td>\n",
       "      <td>1</td>\n",
       "      <td>0</td>\n",
       "      <td>1</td>\n",
       "    </tr>\n",
       "    <tr>\n",
       "      <th>57</th>\n",
       "      <td>0</td>\n",
       "      <td>0</td>\n",
       "      <td>0</td>\n",
       "      <td>1</td>\n",
       "      <td>1</td>\n",
       "    </tr>\n",
       "    <tr>\n",
       "      <th>All</th>\n",
       "      <th></th>\n",
       "      <td>2</td>\n",
       "      <td>2</td>\n",
       "      <td>2</td>\n",
       "      <td>2</td>\n",
       "      <td>8</td>\n",
       "    </tr>\n",
       "  </tbody>\n",
       "</table>\n",
       "</div>"
      ],
      "text/plain": [
       "Education  Bachelors  High_school  Masters  Ph.d  All\n",
       "Sex Marks                                            \n",
       "F   41             0            0        0     1    1\n",
       "    46             0            0        1     0    1\n",
       "    54             1            0        0     0    1\n",
       "    60             0            1        0     0    1\n",
       "M   40             0            1        0     0    1\n",
       "    44             1            0        0     0    1\n",
       "    53             0            0        1     0    1\n",
       "    57             0            0        0     1    1\n",
       "All                2            2        2     2    8"
      ]
     },
     "execution_count": 2,
     "metadata": {},
     "output_type": "execute_result"
    }
   ],
   "source": [
    "cross_tab = pd.crosstab([DF.Sex,DF.Marks],DF.Education,margins=True)\n",
    "cross_tab"
   ]
  },
  {
   "cell_type": "code",
   "execution_count": 3,
   "metadata": {},
   "outputs": [
    {
     "data": {
      "text/html": [
       "<div>\n",
       "<style scoped>\n",
       "    .dataframe tbody tr th:only-of-type {\n",
       "        vertical-align: middle;\n",
       "    }\n",
       "\n",
       "    .dataframe tbody tr th {\n",
       "        vertical-align: top;\n",
       "    }\n",
       "\n",
       "    .dataframe thead th {\n",
       "        text-align: right;\n",
       "    }\n",
       "</style>\n",
       "<table border=\"1\" class=\"dataframe\">\n",
       "  <thead>\n",
       "    <tr style=\"text-align: right;\">\n",
       "      <th>Education</th>\n",
       "      <th>Bachelors</th>\n",
       "      <th>High_school</th>\n",
       "      <th>Masters</th>\n",
       "      <th>Ph.d</th>\n",
       "      <th>All</th>\n",
       "    </tr>\n",
       "    <tr>\n",
       "      <th>Sex</th>\n",
       "      <th></th>\n",
       "      <th></th>\n",
       "      <th></th>\n",
       "      <th></th>\n",
       "      <th></th>\n",
       "    </tr>\n",
       "  </thead>\n",
       "  <tbody>\n",
       "    <tr>\n",
       "      <th>F</th>\n",
       "      <td>54</td>\n",
       "      <td>60</td>\n",
       "      <td>46</td>\n",
       "      <td>41</td>\n",
       "      <td>201</td>\n",
       "    </tr>\n",
       "    <tr>\n",
       "      <th>M</th>\n",
       "      <td>44</td>\n",
       "      <td>40</td>\n",
       "      <td>53</td>\n",
       "      <td>57</td>\n",
       "      <td>194</td>\n",
       "    </tr>\n",
       "    <tr>\n",
       "      <th>All</th>\n",
       "      <td>98</td>\n",
       "      <td>100</td>\n",
       "      <td>99</td>\n",
       "      <td>98</td>\n",
       "      <td>395</td>\n",
       "    </tr>\n",
       "  </tbody>\n",
       "</table>\n",
       "</div>"
      ],
      "text/plain": [
       "Education  Bachelors  High_school  Masters  Ph.d  All\n",
       "Sex                                                  \n",
       "F                 54           60       46    41  201\n",
       "M                 44           40       53    57  194\n",
       "All               98          100       99    98  395"
      ]
     },
     "execution_count": 3,
     "metadata": {},
     "output_type": "execute_result"
    }
   ],
   "source": [
    "DF1 = pd.crosstab(DF.Sex, DF.Education,DF.Marks, aggfunc=\"sum\",margins=True)\n",
    "DF1"
   ]
  },
  {
   "cell_type": "code",
   "execution_count": 4,
   "metadata": {},
   "outputs": [
    {
     "data": {
      "text/html": [
       "<div>\n",
       "<style scoped>\n",
       "    .dataframe tbody tr th:only-of-type {\n",
       "        vertical-align: middle;\n",
       "    }\n",
       "\n",
       "    .dataframe tbody tr th {\n",
       "        vertical-align: top;\n",
       "    }\n",
       "\n",
       "    .dataframe thead th {\n",
       "        text-align: right;\n",
       "    }\n",
       "</style>\n",
       "<table border=\"1\" class=\"dataframe\">\n",
       "  <thead>\n",
       "    <tr style=\"text-align: right;\">\n",
       "      <th></th>\n",
       "      <th>Bachelors</th>\n",
       "      <th>High_School</th>\n",
       "      <th>Masters</th>\n",
       "      <th>Ph.d.</th>\n",
       "      <th>Genderwise_total</th>\n",
       "    </tr>\n",
       "  </thead>\n",
       "  <tbody>\n",
       "    <tr>\n",
       "      <th>Female</th>\n",
       "      <td>54</td>\n",
       "      <td>60</td>\n",
       "      <td>46</td>\n",
       "      <td>41</td>\n",
       "      <td>201</td>\n",
       "    </tr>\n",
       "    <tr>\n",
       "      <th>Male</th>\n",
       "      <td>44</td>\n",
       "      <td>40</td>\n",
       "      <td>53</td>\n",
       "      <td>57</td>\n",
       "      <td>194</td>\n",
       "    </tr>\n",
       "    <tr>\n",
       "      <th>Combined</th>\n",
       "      <td>98</td>\n",
       "      <td>100</td>\n",
       "      <td>99</td>\n",
       "      <td>98</td>\n",
       "      <td>395</td>\n",
       "    </tr>\n",
       "  </tbody>\n",
       "</table>\n",
       "</div>"
      ],
      "text/plain": [
       "          Bachelors  High_School  Masters  Ph.d.  Genderwise_total\n",
       "Female           54           60       46     41               201\n",
       "Male             44           40       53     57               194\n",
       "Combined         98          100       99     98               395"
      ]
     },
     "execution_count": 4,
     "metadata": {},
     "output_type": "execute_result"
    }
   ],
   "source": [
    "DF1.columns = [\"Bachelors\",\"High_School\",\"Masters\",\"Ph.d.\",\"Genderwise_total\"]\n",
    "DF1.index = [\"Female\",\"Male\",\"Combined\"]\n",
    "DF1"
   ]
  },
  {
   "cell_type": "code",
   "execution_count": 5,
   "metadata": {},
   "outputs": [
    {
     "data": {
      "text/html": [
       "<div>\n",
       "<style scoped>\n",
       "    .dataframe tbody tr th:only-of-type {\n",
       "        vertical-align: middle;\n",
       "    }\n",
       "\n",
       "    .dataframe tbody tr th {\n",
       "        vertical-align: top;\n",
       "    }\n",
       "\n",
       "    .dataframe thead th {\n",
       "        text-align: right;\n",
       "    }\n",
       "</style>\n",
       "<table border=\"1\" class=\"dataframe\">\n",
       "  <thead>\n",
       "    <tr style=\"text-align: right;\">\n",
       "      <th></th>\n",
       "      <th>Education</th>\n",
       "      <th>Marks</th>\n",
       "      <th>Sex</th>\n",
       "    </tr>\n",
       "  </thead>\n",
       "  <tbody>\n",
       "    <tr>\n",
       "      <th>0</th>\n",
       "      <td>High_school</td>\n",
       "      <td>40</td>\n",
       "      <td>M</td>\n",
       "    </tr>\n",
       "    <tr>\n",
       "      <th>1</th>\n",
       "      <td>Bachelors</td>\n",
       "      <td>44</td>\n",
       "      <td>M</td>\n",
       "    </tr>\n",
       "    <tr>\n",
       "      <th>2</th>\n",
       "      <td>Masters</td>\n",
       "      <td>53</td>\n",
       "      <td>M</td>\n",
       "    </tr>\n",
       "    <tr>\n",
       "      <th>3</th>\n",
       "      <td>Ph.d</td>\n",
       "      <td>57</td>\n",
       "      <td>M</td>\n",
       "    </tr>\n",
       "    <tr>\n",
       "      <th>4</th>\n",
       "      <td>High_school</td>\n",
       "      <td>60</td>\n",
       "      <td>F</td>\n",
       "    </tr>\n",
       "    <tr>\n",
       "      <th>5</th>\n",
       "      <td>Bachelors</td>\n",
       "      <td>54</td>\n",
       "      <td>F</td>\n",
       "    </tr>\n",
       "    <tr>\n",
       "      <th>6</th>\n",
       "      <td>Masters</td>\n",
       "      <td>46</td>\n",
       "      <td>F</td>\n",
       "    </tr>\n",
       "    <tr>\n",
       "      <th>7</th>\n",
       "      <td>Ph.d</td>\n",
       "      <td>41</td>\n",
       "      <td>F</td>\n",
       "    </tr>\n",
       "  </tbody>\n",
       "</table>\n",
       "</div>"
      ],
      "text/plain": [
       "     Education  Marks Sex\n",
       "0  High_school     40   M\n",
       "1    Bachelors     44   M\n",
       "2      Masters     53   M\n",
       "3         Ph.d     57   M\n",
       "4  High_school     60   F\n",
       "5    Bachelors     54   F\n",
       "6      Masters     46   F\n",
       "7         Ph.d     41   F"
      ]
     },
     "execution_count": 5,
     "metadata": {},
     "output_type": "execute_result"
    }
   ],
   "source": [
    "# Creating a table exlcuding the total for later use\n",
    "DF2 = DF1.iloc[0:2,0:4]\n",
    "DF"
   ]
  },
  {
   "cell_type": "code",
   "execution_count": 6,
   "metadata": {},
   "outputs": [
    {
     "data": {
      "text/html": [
       "<div>\n",
       "<style scoped>\n",
       "    .dataframe tbody tr th:only-of-type {\n",
       "        vertical-align: middle;\n",
       "    }\n",
       "\n",
       "    .dataframe tbody tr th {\n",
       "        vertical-align: top;\n",
       "    }\n",
       "\n",
       "    .dataframe thead th {\n",
       "        text-align: right;\n",
       "    }\n",
       "</style>\n",
       "<table border=\"1\" class=\"dataframe\">\n",
       "  <thead>\n",
       "    <tr style=\"text-align: right;\">\n",
       "      <th></th>\n",
       "      <th>Bachelors</th>\n",
       "      <th>High_School</th>\n",
       "      <th>Masters</th>\n",
       "      <th>Ph.d.</th>\n",
       "    </tr>\n",
       "  </thead>\n",
       "  <tbody>\n",
       "    <tr>\n",
       "      <th>Female</th>\n",
       "      <td>49.868354</td>\n",
       "      <td>50.886076</td>\n",
       "      <td>50.377215</td>\n",
       "      <td>49.868354</td>\n",
       "    </tr>\n",
       "    <tr>\n",
       "      <th>Male</th>\n",
       "      <td>48.131646</td>\n",
       "      <td>49.113924</td>\n",
       "      <td>48.622785</td>\n",
       "      <td>48.131646</td>\n",
       "    </tr>\n",
       "  </tbody>\n",
       "</table>\n",
       "</div>"
      ],
      "text/plain": [
       "        Bachelors  High_School    Masters      Ph.d.\n",
       "Female  49.868354    50.886076  50.377215  49.868354\n",
       "Male    48.131646    49.113924  48.622785  48.131646"
      ]
     },
     "execution_count": 6,
     "metadata": {},
     "output_type": "execute_result"
    }
   ],
   "source": [
    "DF3=np.outer(DF1[\"Genderwise_total\"][0:2],DF1.loc[\"Combined\"][0:4]) / 395.0\n",
    "DF3 = pd.DataFrame(DF3)\n",
    "DF3.columns = [\"Bachelors\",\"High_School\",\"Masters\",\"Ph.d.\"]\n",
    "DF3.index = [\"Female\",\"Male\"]\n",
    "DF3"
   ]
  },
  {
   "cell_type": "code",
   "execution_count": 7,
   "metadata": {},
   "outputs": [
    {
     "name": "stdout",
     "output_type": "stream",
     "text": [
      "8.006066246262538\n",
      "Critical value:  7.814727903251179\n",
      "P value:  0.04588650089174717\n"
     ]
    }
   ],
   "source": [
    "chi_squared_stat = (((DF3-DF2)**2)/DF3).sum().sum()\n",
    "print(chi_squared_stat)\n",
    "cvalue = stats.chi2.ppf(q = 0.95,df= 3)\n",
    "print(\"Critical value: \",cvalue)\n",
    "p_value = 1 - stats.chi2.cdf(x=chi_squared_stat,df=3)\n",
    "print(\"P value: \",p_value)"
   ]
  },
  {
   "cell_type": "code",
   "execution_count": 8,
   "metadata": {},
   "outputs": [
    {
     "name": "stdout",
     "output_type": "stream",
     "text": [
      "(8.006066246262538, 0.045886500891747214, 3, array([[49.86835443, 50.88607595, 50.37721519, 49.86835443],\n",
      "       [48.13164557, 49.11392405, 48.62278481, 48.13164557]]))\n"
     ]
    }
   ],
   "source": [
    "result = stats.chi2_contingency(observed= DF2)\n",
    "print(result)"
   ]
  },
  {
   "cell_type": "markdown",
   "metadata": {},
   "source": [
    "# Problem Statement 2:"
   ]
  },
  {
   "cell_type": "raw",
   "metadata": {},
   "source": [
    "\n",
    "# Using the following data, perform a oneway analysis of variance using α=.05.\n",
    "Write up the results in APA format.\n",
    "# [Group1: 51, 45, 33, 45, 67] [Group2: 23, 43, 23, 43, 45] [Group3: 56, 76, 7\n",
    "4, 87, 56]"
   ]
  },
  {
   "cell_type": "code",
   "execution_count": 9,
   "metadata": {},
   "outputs": [
    {
     "name": "stdout",
     "output_type": "stream",
     "text": [
      "F Statistic value 9.747205503009463 , p-value 0.0030597541434430556\n",
      "True\n"
     ]
    }
   ],
   "source": [
    "import scipy.stats as stats\n",
    "Group1 = [51, 45, 33, 45, 67]\n",
    "Group2 = [23, 43, 23, 43, 45]\n",
    "Group3 = [56, 76, 74, 87, 56]\n",
    "# Perform the ANOVA\n",
    "statistic, pvalue = stats.f_oneway(Group1,Group2,Group3)\n",
    "print(\"F Statistic value {} , p-value {}\".format(statistic,pvalue))\n",
    "if pvalue < 0.05:\n",
    "    print('True')\n",
    "else:\n",
    "    print('False')"
   ]
  },
  {
   "cell_type": "markdown",
   "metadata": {},
   "source": [
    "## Problem Statement 3:\n",
    "- Calculate F Test for given 10, 20, 30, 40, 50 and 5,10,15, 20, 25. For 10, 20, 30, 40, 50:"
   ]
  },
  {
   "cell_type": "code",
   "execution_count": 10,
   "metadata": {},
   "outputs": [
    {
     "name": "stdout",
     "output_type": "stream",
     "text": [
      "The F Test value is 4.0\n"
     ]
    }
   ],
   "source": [
    "import statistics \n",
    "sample = [10,20,30,40,50] \n",
    "sample2 = [5,10,15,20,25]\n",
    "var1 = statistics.variance(sample)\n",
    "var2 = statistics.variance(sample2)\n",
    "FTest =var1/var2\n",
    "print(\"The F Test value is\",FTest)"
   ]
  }
 ],
 "metadata": {
  "kernelspec": {
   "display_name": "Python 3",
   "language": "python",
   "name": "python3"
  },
  "language_info": {
   "codemirror_mode": {
    "name": "ipython",
    "version": 3
   },
   "file_extension": ".py",
   "mimetype": "text/x-python",
   "name": "python",
   "nbconvert_exporter": "python",
   "pygments_lexer": "ipython3",
   "version": "3.7.6"
  }
 },
 "nbformat": 4,
 "nbformat_minor": 4
}
